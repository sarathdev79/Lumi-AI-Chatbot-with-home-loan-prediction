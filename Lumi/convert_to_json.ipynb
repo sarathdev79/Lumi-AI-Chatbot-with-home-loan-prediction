{
 "cells": [
  {
   "cell_type": "code",
   "execution_count": 4,
   "id": "3f4f085f-daf9-4cfa-92ce-5c004a8c9334",
   "metadata": {},
   "outputs": [],
   "source": [
    "import pandas as pd\n",
    "import json\n",
    "\n",
    "# Read the first CSV file\n",
    "df1 = pd.read_csv('faq.csv')\n",
    "\n",
    "# Read the second CSV file\n",
    "df2 = pd.read_csv('non_faq.csv')\n",
    "\n",
    "# Merge the two DataFrames\n",
    "merged_df = pd.concat([df1, df2], ignore_index=True)\n",
    "\n",
    "# Group by 'Question' and aggregate 'Sub Quest/Answer' as a list\n",
    "grouped_df = merged_df.groupby('Question')['Sub Quest/Answer'].apply(list).reset_index()\n",
    "\n",
    "# Convert DataFrame to JSON format\n",
    "intents = []\n",
    "for index, row in grouped_df.iterrows():\n",
    "    intent = {\n",
    "        \"tag\": \"\",  # You need to specify the tag for each intent\n",
    "        \"patterns\": [row['Question']],\n",
    "        \"responses\": row['Sub Quest/Answer']\n",
    "    }\n",
    "    intents.append(intent)\n",
    "\n",
    "output_json = {\"intents\": intents}\n",
    "\n",
    "# Write JSON to a file\n",
    "with open('output.json', 'w') as json_file:\n",
    "    json.dump(output_json, json_file, indent=4)\n"
   ]
  },
  {
   "cell_type": "code",
   "execution_count": 2,
   "id": "10ea9ad0-79b1-4b2b-9059-c571c0e1196c",
   "metadata": {},
   "outputs": [
    {
     "data": {
      "text/plain": [
       "'/Users/sarathdevsahadevan'"
      ]
     },
     "execution_count": 2,
     "metadata": {},
     "output_type": "execute_result"
    }
   ],
   "source": [
    "pwd"
   ]
  },
  {
   "cell_type": "code",
   "execution_count": null,
   "id": "913f7e93-2c85-497f-8194-48ddbb525126",
   "metadata": {},
   "outputs": [],
   "source": []
  }
 ],
 "metadata": {
  "kernelspec": {
   "display_name": "Python 3 (ipykernel)",
   "language": "python",
   "name": "python3"
  },
  "language_info": {
   "codemirror_mode": {
    "name": "ipython",
    "version": 3
   },
   "file_extension": ".py",
   "mimetype": "text/x-python",
   "name": "python",
   "nbconvert_exporter": "python",
   "pygments_lexer": "ipython3",
   "version": "3.10.9"
  }
 },
 "nbformat": 4,
 "nbformat_minor": 5
}
