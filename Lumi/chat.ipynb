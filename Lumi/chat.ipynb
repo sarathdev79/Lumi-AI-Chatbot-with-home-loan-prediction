{
 "cells": [
  {
   "cell_type": "code",
   "execution_count": 1,
   "id": "6217f501-fa70-4e37-bb7c-d6d39d29fce0",
   "metadata": {},
   "outputs": [],
   "source": [
    "import random\n",
    "import json\n",
    "import torch"
   ]
  },
  {
   "cell_type": "code",
   "execution_count": 2,
   "id": "d5e2e6f3-02c3-4048-879c-a1bf839d8a9b",
   "metadata": {},
   "outputs": [],
   "source": [
    "from model import NeuralNet\n",
    "from nltk_functions import bag_of_words, tokenize"
   ]
  },
  {
   "cell_type": "code",
   "execution_count": 3,
   "id": "4284f50c-1b98-4a5c-9c54-6d76416905ff",
   "metadata": {},
   "outputs": [],
   "source": [
    "device = torch.device('cuda' if torch.cuda.is_available() else 'cpu')"
   ]
  },
  {
   "cell_type": "code",
   "execution_count": 4,
   "id": "0addb7b9-a03d-4e90-8aef-2837c4acd09a",
   "metadata": {},
   "outputs": [],
   "source": [
    "with open('data.json', 'r') as json_data:\n",
    "    intents = json.load(json_data)"
   ]
  },
  {
   "cell_type": "code",
   "execution_count": 5,
   "id": "73790e14-1704-44ac-b0cf-a4cc99019838",
   "metadata": {},
   "outputs": [],
   "source": [
    "FILE = \"data.pth\"\n",
    "data = torch.load(FILE)"
   ]
  },
  {
   "cell_type": "code",
   "execution_count": 6,
   "id": "e55494e7-d386-4c6a-a1a8-188c5656c73b",
   "metadata": {},
   "outputs": [],
   "source": [
    "input_size = data[\"input_size\"]\n",
    "hidden_size = data[\"hidden_size\"]\n",
    "output_size = data[\"output_size\"]\n",
    "all_words = data['all_words']\n",
    "tags = data['tags']\n",
    "model_state = data[\"model_state\"]"
   ]
  },
  {
   "cell_type": "code",
   "execution_count": 7,
   "id": "ba9eaf03-2638-4a99-9a3e-2f384daa6de0",
   "metadata": {},
   "outputs": [
    {
     "data": {
      "text/plain": [
       "NeuralNet(\n",
       "  (l1): Linear(in_features=396, out_features=8, bias=True)\n",
       "  (l2): Linear(in_features=8, out_features=8, bias=True)\n",
       "  (l3): Linear(in_features=8, out_features=105, bias=True)\n",
       "  (relu): ReLU()\n",
       ")"
      ]
     },
     "execution_count": 7,
     "metadata": {},
     "output_type": "execute_result"
    }
   ],
   "source": [
    "model = NeuralNet(input_size, hidden_size, output_size).to(device)\n",
    "model.load_state_dict(model_state)\n",
    "model.eval()"
   ]
  },
  {
   "cell_type": "code",
   "execution_count": 8,
   "id": "d4c1fa96-c65c-44be-8c18-a48c1834d82c",
   "metadata": {},
   "outputs": [],
   "source": [
    "bot_name = \"Lumi\""
   ]
  },
  {
   "cell_type": "code",
   "execution_count": 9,
   "id": "6f528a10-30fd-499a-84dd-4ade8901c12e",
   "metadata": {},
   "outputs": [],
   "source": [
    "def get_response(msg):\n",
    "    sentence = tokenize(msg)\n",
    "    X = bag_of_words(sentence, all_words)\n",
    "    X = X.reshape(1, X.shape[0])\n",
    "    X = torch.from_numpy(X).to(device)\n",
    "\n",
    "    output = model(X)\n",
    "    _, predicted = torch.max(output, dim=1)\n",
    "\n",
    "    tag = tags[predicted.item()]\n",
    "\n",
    "    probs = torch.softmax(output, dim=1)\n",
    "    prob = probs[0][predicted.item()]\n",
    "    if prob.item() > 0.75:\n",
    "        for intent in intents['intents']:\n",
    "            if tag == intent[\"tag\"]:\n",
    "                return random.choice(intent['responses'])\n",
    "    \n",
    "    return \"I do not understand the question. Can you rephrase it in a different way?\""
   ]
  },
  {
   "cell_type": "code",
   "execution_count": null,
   "id": "9d0a3d5c-f6d1-4d87-8c8b-e8970eb9cd98",
   "metadata": {},
   "outputs": [
    {
     "name": "stdout",
     "output_type": "stream",
     "text": [
      "Hi, I'm Lumi! (type 'quit' to exit)\n"
     ]
    },
    {
     "name": "stdin",
     "output_type": "stream",
     "text": [
      "You:  Hi\n"
     ]
    },
    {
     "name": "stdout",
     "output_type": "stream",
     "text": [
      "Hi, I'm Lumi! How Can I help you today?\n"
     ]
    },
    {
     "name": "stdin",
     "output_type": "stream",
     "text": [
      "You:  what are features of mobile banking app?\n"
     ]
    },
    {
     "name": "stdout",
     "output_type": "stream",
     "text": [
      "OCBC Mobile Banking app offers a wide range of features including account balance check, fund transfers, bill payments, mobile wallet integration, and more. It provides a convenient and user-friendly banking experience on the go.\n"
     ]
    },
    {
     "name": "stdin",
     "output_type": "stream",
     "text": [
      "You:  how can i exchange my foreign currency?\n"
     ]
    },
    {
     "name": "stdout",
     "output_type": "stream",
     "text": [
      "You can exchange foreign currency at any OCBC branch or through our online foreign exchange platform. We offer competitive exchange rates and transparent fee structures for currency exchange services. For current rates and fees, please visit our website.\n"
     ]
    },
    {
     "name": "stdin",
     "output_type": "stream",
     "text": [
      "You:  is there any fee?\n"
     ]
    },
    {
     "name": "stdout",
     "output_type": "stream",
     "text": [
      "An overdraft facility allows you to withdraw more money than you have in your account, up to a certain limit. To apply for an overdraft, please visit your nearest OCBC branch or contact our customer service hotline for assistance.\n"
     ]
    },
    {
     "name": "stdin",
     "output_type": "stream",
     "text": [
      "You:  can i get my account statement?>\n"
     ]
    },
    {
     "name": "stdout",
     "output_type": "stream",
     "text": [
      "You can obtain your account statement through OCBC Internet Banking or Mobile Banking app. Simply navigate to the account statement section and choose the desired period. You can also opt to receive electronic account statements via email for added convenience.\n"
     ]
    },
    {
     "name": "stdin",
     "output_type": "stream",
     "text": [
      "You:  thanks\n"
     ]
    },
    {
     "name": "stdout",
     "output_type": "stream",
     "text": [
      "I do not understand the question. Can you rephrase it in a different way?\n"
     ]
    },
    {
     "name": "stdin",
     "output_type": "stream",
     "text": [
      "You:  thank you\n"
     ]
    },
    {
     "name": "stdout",
     "output_type": "stream",
     "text": [
      "Hi, I'm Lumi! How Can I help you today?\n"
     ]
    },
    {
     "name": "stdin",
     "output_type": "stream",
     "text": [
      "You:  do you have student accounts?\n"
     ]
    },
    {
     "name": "stdout",
     "output_type": "stream",
     "text": [
      "Yes, we offer specialized accounts for students. To open a student bank account, visit your nearest OCBC branch with your student identification and other necessary documents. Student accounts often come with benefits such as no minimum balance requirement and discounted fees.\n"
     ]
    },
    {
     "name": "stdin",
     "output_type": "stream",
     "text": [
      "You:  i want to waive off my credit card fee\n"
     ]
    },
    {
     "name": "stdout",
     "output_type": "stream",
     "text": [
      "You can apply for an OCBC credit card online through our website or visit your nearest OCBC branch to fill out the application form. Make sure to provide all necessary documents for a smooth application process.\n"
     ]
    },
    {
     "name": "stdin",
     "output_type": "stream",
     "text": [
      "You:  can i refinance my loans?\n"
     ]
    },
    {
     "name": "stdout",
     "output_type": "stream",
     "text": [
      "Loan refinancing involves replacing an existing loan with a new loan that has better terms and conditions. You can refinance various types of loans including home loans, personal loans, and car loans to lower your interest rate, reduce your monthly payments, or consolidate debt. Contact our loan specialists to explore refinancing options tailored to your financial goals.\n"
     ]
    }
   ],
   "source": [
    "if __name__ == \"__main__\":\n",
    "    print(\"Hi, I'm Lumi! (type 'quit' to exit)\")\n",
    "    while True:\n",
    "        # sentence = \"do you use credit cards?\"\n",
    "        sentence = input(\"You: \")\n",
    "        if sentence == \"quit\":\n",
    "            break\n",
    "\n",
    "        resp = get_response(sentence)\n",
    "        print(resp)"
   ]
  },
  {
   "cell_type": "code",
   "execution_count": null,
   "id": "d91203df-5af2-4bff-8de7-df660c1c0de3",
   "metadata": {},
   "outputs": [],
   "source": []
  }
 ],
 "metadata": {
  "kernelspec": {
   "display_name": "Python 3 (ipykernel)",
   "language": "python",
   "name": "python3"
  },
  "language_info": {
   "codemirror_mode": {
    "name": "ipython",
    "version": 3
   },
   "file_extension": ".py",
   "mimetype": "text/x-python",
   "name": "python",
   "nbconvert_exporter": "python",
   "pygments_lexer": "ipython3",
   "version": "3.10.9"
  }
 },
 "nbformat": 4,
 "nbformat_minor": 5
}
